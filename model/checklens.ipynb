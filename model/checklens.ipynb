{
 "cells": [
  {
   "cell_type": "code",
   "execution_count": 1,
   "id": "5866f1d2-3f4f-47ee-ad16-868bdaa5981a",
   "metadata": {},
   "outputs": [],
   "source": [
    "import librosa\n",
    "import torch\n",
    "import numpy as np"
   ]
  },
  {
   "cell_type": "code",
   "execution_count": 17,
   "id": "fe97cdfb-60fd-4d99-9a53-7bf80c4b93b7",
   "metadata": {},
   "outputs": [],
   "source": [
    "def checklens(audio_file):\n",
    "    SR = 22050 # 采样率\n",
    "    fv = open(audio_file,'r')\n",
    "    for line in fv.readlines():\n",
    "        item = line.strip().split('\\\\')\n",
    "        src, sr = librosa.load(item[0], sr=SR)  # value num = Sr * DURA\n",
    "        lens = len(src) / sr\n",
    "        #print(lens)\n",
    "        if lens < 5.20:\n",
    "            print(\"时长过短:{}\".format(item[0]))\n",
    "    print(\"finish\")\n",
    "    \n",
    "    fv.close"
   ]
  },
  {
   "cell_type": "code",
   "execution_count": null,
   "id": "a2b8fd14-10cd-467e-81a1-1e4ebc9d1dd0",
   "metadata": {},
   "outputs": [
    {
     "name": "stdout",
     "output_type": "stream",
     "text": [
      "时长过短:/root/autodl-tmp/VMR_PRO/train/audio/1058.wav\n",
      "时长过短:/root/autodl-tmp/VMR_PRO/train/audio/1087.wav\n",
      "时长过短:/root/autodl-tmp/VMR_PRO/train/audio/1172.wav\n",
      "时长过短:/root/autodl-tmp/VMR_PRO/train/audio/1184.wav\n",
      "时长过短:/root/autodl-tmp/VMR_PRO/train/audio/1217.wav\n",
      "时长过短:/root/autodl-tmp/VMR_PRO/train/audio/1238.wav\n",
      "时长过短:/root/autodl-tmp/VMR_PRO/train/audio/1240.wav\n",
      "时长过短:/root/autodl-tmp/VMR_PRO/train/audio/1263.wav\n",
      "时长过短:/root/autodl-tmp/VMR_PRO/train/audio/153.wav\n",
      "时长过短:/root/autodl-tmp/VMR_PRO/train/audio/1572.wav\n",
      "时长过短:/root/autodl-tmp/VMR_PRO/train/audio/1573.wav\n"
     ]
    }
   ],
   "source": [
    "root = r'/root/autodl-tmp/VMR_PRO/train/audiofilename.txt'\n",
    "checklens(root)"
   ]
  },
  {
   "cell_type": "code",
   "execution_count": null,
   "id": "dccebd90-d99f-407a-92d9-0b37aa01b5a1",
   "metadata": {},
   "outputs": [],
   "source": []
  }
 ],
 "metadata": {
  "kernelspec": {
   "display_name": "Python 3 (ipykernel)",
   "language": "python",
   "name": "python3"
  },
  "language_info": {
   "codemirror_mode": {
    "name": "ipython",
    "version": 3
   },
   "file_extension": ".py",
   "mimetype": "text/x-python",
   "name": "python",
   "nbconvert_exporter": "python",
   "pygments_lexer": "ipython3",
   "version": "3.8.10"
  }
 },
 "nbformat": 4,
 "nbformat_minor": 5
}
